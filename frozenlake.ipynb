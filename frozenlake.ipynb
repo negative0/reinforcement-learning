{
 "cells": [
  {
   "cell_type": "code",
   "execution_count": 1,
   "metadata": {
    "collapsed": true
   },
   "outputs": [],
   "source": [
    "import numpy as np\n",
    "import gym\n",
    "import random"
   ]
  },
  {
   "cell_type": "code",
   "execution_count": 2,
   "metadata": {},
   "outputs": [],
   "source": [
    "env = gym.make(\"FrozenLake-v0\")\n"
   ]
  },
  {
   "cell_type": "code",
   "execution_count": 3,
   "metadata": {},
   "outputs": [],
   "source": [
    "action_size = env.action_space.n\n",
    "state_size = env.observation_space.n    \n"
   ]
  },
  {
   "cell_type": "code",
   "execution_count": 4,
   "metadata": {},
   "outputs": [
    {
     "name": "stdout",
     "output_type": "stream",
     "text": [
      "Actions: 4, States: 16\n"
     ]
    }
   ],
   "source": [
    "print(\"Actions: %d, States: %d\" % (action_size, state_size))"
   ]
  },
  {
   "cell_type": "code",
   "execution_count": 5,
   "metadata": {},
   "outputs": [
    {
     "name": "stdout",
     "output_type": "stream",
     "text": [
      "[[0. 0. 0. 0.]\n [0. 0. 0. 0.]\n [0. 0. 0. 0.]\n [0. 0. 0. 0.]\n [0. 0. 0. 0.]\n [0. 0. 0. 0.]\n [0. 0. 0. 0.]\n [0. 0. 0. 0.]\n [0. 0. 0. 0.]\n [0. 0. 0. 0.]\n [0. 0. 0. 0.]\n [0. 0. 0. 0.]\n [0. 0. 0. 0.]\n [0. 0. 0. 0.]\n [0. 0. 0. 0.]\n [0. 0. 0. 0.]]\n"
     ]
    }
   ],
   "source": [
    "qtable = np.zeros((state_size, action_size))\n",
    "print(qtable)"
   ]
  },
  {
   "cell_type": "code",
   "execution_count": 6,
   "metadata": {},
   "outputs": [],
   "source": [
    "total_episodes = 15000\n",
    "learning_rate = 0.8\n",
    "max_steps = 99\n",
    "gamma = 0.95\n",
    "\n",
    "epsilon = 1.0\n",
    "max_epsilon = 1.0\n",
    "min_epsilon = 0.01\n",
    "decay_rate = 0.005\n"
   ]
  },
  {
   "cell_type": "code",
   "execution_count": 7,
   "metadata": {},
   "outputs": [
    {
     "name": "stdout",
     "output_type": "stream",
     "text": [
      "Score over time: 0.6854666666666667\n[[3.96226247e-01 7.22183170e-03 6.81365915e-03 7.79550791e-03]\n [8.15194724e-04 1.08501332e-03 2.47892817e-03 1.62627865e-01]\n [1.29459194e-03 1.56381131e-03 1.19492197e-03 7.74949778e-02]\n [3.40769779e-04 1.23643546e-03 1.26390679e-03 6.24276693e-02]\n [3.81023515e-01 3.03554872e-03 4.07599250e-03 3.26320487e-03]\n [0.00000000e+00 0.00000000e+00 0.00000000e+00 0.00000000e+00]\n [3.27181595e-06 1.65371333e-06 1.81548733e-01 2.49474403e-06]\n [0.00000000e+00 0.00000000e+00 0.00000000e+00 0.00000000e+00]\n [1.87369941e-03 1.81366496e-03 3.35895725e-03 4.15735662e-01]\n [2.91758768e-03 1.75138606e-01 1.35273216e-03 3.32183319e-03]\n [3.42559507e-02 1.50638605e-03 1.72639675e-03 4.54541565e-04]\n [0.00000000e+00 0.00000000e+00 0.00000000e+00 0.00000000e+00]\n [0.00000000e+00 0.00000000e+00 0.00000000e+00 0.00000000e+00]\n [2.37576488e-02 4.07941126e-02 7.04749960e-01 1.96602668e-03]\n [7.73682696e-02 9.67504446e-01 6.48285375e-02 7.37858074e-02]\n [0.00000000e+00 0.00000000e+00 0.00000000e+00 0.00000000e+00]]\n"
     ]
    }
   ],
   "source": [
    "rewards = []\n",
    "for episode in range(total_episodes):\n",
    "    state = env.reset()\n",
    "    \n",
    "    total_reward = 0\n",
    "    step = 0\n",
    "    for step in range(max_steps):\n",
    "        \n",
    "        tradeoff = random.uniform(0,1)\n",
    "        \n",
    "        if tradeoff > epsilon:\n",
    "            action = np.argmax(qtable[state, :])\n",
    "        else:\n",
    "            action = env.action_space.sample()\n",
    "            \n",
    "        new_state, reward, done, info = env.step(action)\n",
    "        \n",
    "        qtable[state, action] = qtable[state, action] + learning_rate * (reward + gamma * np.max(qtable[new_state, :]) - \n",
    "                                                                         qtable[state, action])\n",
    "        rewards.append(reward)\n",
    "        state = new_state\n",
    "        if done: \n",
    "            break\n",
    "        \n",
    "    epsilon = (max_epsilon - min_epsilon) * np.exp(-decay_rate * episode)\n",
    "    \n",
    "print (\"Score over time: \" +  str(sum(rewards)/total_episodes))\n",
    "print(qtable)"
   ]
  },
  {
   "cell_type": "code",
   "execution_count": 10,
   "metadata": {},
   "outputs": [
    {
     "name": "stdout",
     "output_type": "stream",
     "text": [
      "*********************************************************\nEpisode: 0\n  (Down)\nSFFF\nFHFH\nFFFH\nHFF\u001b[41mG\u001b[0m\nNumber of steps: 33, Reward: 1\n*********************************************************\nEpisode: 1\n  (Down)\nSFFF\nFHFH\nFFFH\nHFF\u001b[41mG\u001b[0m\nNumber of steps: 17, Reward: 1\n*********************************************************\nEpisode: 2\n  (Down)\nSFFF\nFHFH\nFFFH\nHFF\u001b[41mG\u001b[0m\nNumber of steps: 27, Reward: 1\n*********************************************************\nEpisode: 3\n  (Down)\nSFFF\nFHFH\nFFFH\nHFF\u001b[41mG\u001b[0m\nNumber of steps: 78, Reward: 1\n*********************************************************\nEpisode: 4\n*********************************************************\nEpisode: 5\n  (Right)\nSFFF\nFHF\u001b[41mH\u001b[0m\nFFFH\nHFFG\nNumber of steps: 8, Reward: 0\n*********************************************************\nEpisode: 6\n  (Down)\nSFFF\nFHFH\nFFFH\nHFF\u001b[41mG\u001b[0m\nNumber of steps: 19, Reward: 1\n*********************************************************\nEpisode: 7\n  (Down)\nSFFF\nFHFH\nFFFH\nHFF\u001b[41mG\u001b[0m\nNumber of steps: 42, Reward: 1\n*********************************************************\nEpisode: 8\n  (Right)\nSFFF\nFHF\u001b[41mH\u001b[0m\nFFFH\nHFFG\nNumber of steps: 24, Reward: 0\n*********************************************************\nEpisode: 9\n  (Down)\nSFFF\nFHFH\nFFFH\nHFF\u001b[41mG\u001b[0m\nNumber of steps: 73, Reward: 1\n"
     ]
    }
   ],
   "source": [
    "# Test\n",
    "for episode in range(10):\n",
    "    \n",
    "    state = env.reset()\n",
    "    step = 0\n",
    "    done = False\n",
    "    print(\"*********************************************************\")\n",
    "    print(\"Episode: %d\" % episode)\n",
    "    total_reward = 0\n",
    "    for step in range(max_steps):\n",
    "        action = np.argmax(qtable[state, :])\n",
    "        new_state, reward, done, info = env.step(action)\n",
    "        total_reward += reward\n",
    "        \n",
    "        if done:\n",
    "            env.render()\n",
    "            print(\"Number of steps: %d, Reward: %d\" % (step, total_reward))\n",
    "            break\n",
    "        state = new_state\n",
    "        \n",
    "env.close()"
   ]
  },
  {
   "cell_type": "code",
   "execution_count": null,
   "metadata": {},
   "outputs": [],
   "source": []
  }
 ],
 "metadata": {
  "kernelspec": {
   "display_name": "Python 2",
   "language": "python",
   "name": "python2"
  },
  "language_info": {
   "codemirror_mode": {
    "name": "ipython",
    "version": 2
   },
   "file_extension": ".py",
   "mimetype": "text/x-python",
   "name": "python",
   "nbconvert_exporter": "python",
   "pygments_lexer": "ipython2",
   "version": "2.7.6"
  }
 },
 "nbformat": 4,
 "nbformat_minor": 0
}
